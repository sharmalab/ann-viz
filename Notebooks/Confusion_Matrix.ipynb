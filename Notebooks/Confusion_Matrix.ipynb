{
 "cells": [
  {
   "cell_type": "code",
   "execution_count": 7,
   "metadata": {},
   "outputs": [
    {
     "name": "stdout",
     "output_type": "stream",
     "text": [
      "Please enter the threshold number between 0-1 : \n",
      "0.4\n"
     ]
    }
   ],
   "source": [
    "import pandas as pd\n",
    "df=pd.read_csv(\"/Users/sapoon/Desktop/Emory/Spring 2020/Probabilty_prediction.csv\")\n",
    "\n",
    "threshold = float(input(\"Please enter the threshold number between 0-1 : \\n\" ))\n",
    "#print(threshold)\n",
    "\n",
    "if(threshold >= 0 and threshold <= 1):\n",
    "    pass \n",
    "else:\n",
    "    print(\"it's not valid\")\n",
    "    \n",
    "    "
   ]
  },
  {
   "cell_type": "code",
   "execution_count": 20,
   "metadata": {},
   "outputs": [],
   "source": [
    "prediction = df[\"Prediction\"]\n",
    "new_ann=[]\n",
    "for a in range(0,len(prediction)):\n",
    "    if(prediction[a]>=threshold):\n",
    "        new_ann.append(1)\n",
    "    else:\n",
    "        new_ann.append(0)\n",
    "        \n",
    "df[\"new_ann\"] = new_ann\n",
    "    \n",
    "   \n",
    "        \n",
    "\n",
    "        "
   ]
  },
  {
   "cell_type": "code",
   "execution_count": 21,
   "metadata": {},
   "outputs": [
    {
     "name": "stdout",
     "output_type": "stream",
     "text": [
      "0      1\n",
      "1      1\n",
      "2      1\n",
      "3      1\n",
      "4      1\n",
      "5      1\n",
      "6      1\n",
      "7      1\n",
      "8      1\n",
      "9      1\n",
      "10     1\n",
      "11     1\n",
      "12     1\n",
      "13     1\n",
      "14     1\n",
      "15     1\n",
      "16     1\n",
      "17     1\n",
      "18     1\n",
      "19     1\n",
      "20     1\n",
      "21     1\n",
      "22     1\n",
      "23     1\n",
      "24     0\n",
      "25     0\n",
      "26     0\n",
      "27     0\n",
      "28     0\n",
      "29     0\n",
      "      ..\n",
      "214    0\n",
      "215    0\n",
      "216    0\n",
      "217    0\n",
      "218    0\n",
      "219    0\n",
      "220    0\n",
      "221    0\n",
      "222    0\n",
      "223    0\n",
      "224    0\n",
      "225    0\n",
      "226    0\n",
      "227    0\n",
      "228    0\n",
      "229    0\n",
      "230    0\n",
      "231    0\n",
      "232    0\n",
      "233    0\n",
      "234    0\n",
      "235    0\n",
      "236    0\n",
      "237    0\n",
      "238    0\n",
      "239    0\n",
      "240    0\n",
      "241    0\n",
      "242    0\n",
      "243    0\n",
      "Name: new_ann, Length: 244, dtype: int64\n"
     ]
    }
   ],
   "source": [
    "print(df[\"new_ann\"])"
   ]
  },
  {
   "cell_type": "code",
   "execution_count": null,
   "metadata": {},
   "outputs": [],
   "source": [
    "import plotly.express as px\n"
   ]
  }
 ],
 "metadata": {
  "kernelspec": {
   "display_name": "Python 3",
   "language": "python",
   "name": "python3"
  },
  "language_info": {
   "codemirror_mode": {
    "name": "ipython",
    "version": 3
   },
   "file_extension": ".py",
   "mimetype": "text/x-python",
   "name": "python",
   "nbconvert_exporter": "python",
   "pygments_lexer": "ipython3",
   "version": "3.5.4"
  }
 },
 "nbformat": 4,
 "nbformat_minor": 2
}
